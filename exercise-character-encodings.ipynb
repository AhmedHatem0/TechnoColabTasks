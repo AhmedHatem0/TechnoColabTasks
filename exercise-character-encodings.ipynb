{
 "cells": [
  {
   "cell_type": "markdown",
   "id": "32b119c3",
   "metadata": {
    "papermill": {
     "duration": 0.005863,
     "end_time": "2022-09-01T01:55:24.739718",
     "exception": false,
     "start_time": "2022-09-01T01:55:24.733855",
     "status": "completed"
    },
    "tags": []
   },
   "source": [
    "**This notebook is an exercise in the [Data Cleaning](https://www.kaggle.com/learn/data-cleaning) course.  You can reference the tutorial at [this link](https://www.kaggle.com/alexisbcook/character-encodings).**\n",
    "\n",
    "---\n"
   ]
  },
  {
   "cell_type": "markdown",
   "id": "50c51384",
   "metadata": {
    "papermill": {
     "duration": 0.004348,
     "end_time": "2022-09-01T01:55:24.749083",
     "exception": false,
     "start_time": "2022-09-01T01:55:24.744735",
     "status": "completed"
    },
    "tags": []
   },
   "source": [
    "In this exercise, you'll apply what you learned in the **Character encodings** tutorial.\n",
    "\n",
    "# Setup\n",
    "\n",
    "The questions below will give you feedback on your work. Run the following cell to set up the feedback system."
   ]
  },
  {
   "cell_type": "code",
   "execution_count": 1,
   "id": "fc1981f6",
   "metadata": {
    "execution": {
     "iopub.execute_input": "2022-09-01T01:55:24.760396Z",
     "iopub.status.busy": "2022-09-01T01:55:24.759918Z",
     "iopub.status.idle": "2022-09-01T01:55:24.858168Z",
     "shell.execute_reply": "2022-09-01T01:55:24.856563Z"
    },
    "papermill": {
     "duration": 0.107421,
     "end_time": "2022-09-01T01:55:24.861166",
     "exception": false,
     "start_time": "2022-09-01T01:55:24.753745",
     "status": "completed"
    },
    "tags": []
   },
   "outputs": [
    {
     "name": "stdout",
     "output_type": "stream",
     "text": [
      "Setup Complete\n"
     ]
    }
   ],
   "source": [
    "from learntools.core import binder\n",
    "binder.bind(globals())\n",
    "from learntools.data_cleaning.ex4 import *\n",
    "print(\"Setup Complete\")"
   ]
  },
  {
   "cell_type": "markdown",
   "id": "524ab816",
   "metadata": {
    "papermill": {
     "duration": 0.004496,
     "end_time": "2022-09-01T01:55:24.870789",
     "exception": false,
     "start_time": "2022-09-01T01:55:24.866293",
     "status": "completed"
    },
    "tags": []
   },
   "source": [
    "# Get our environment set up\n",
    "\n",
    "The first thing we'll need to do is load in the libraries we'll be using."
   ]
  },
  {
   "cell_type": "code",
   "execution_count": 2,
   "id": "f5062cfb",
   "metadata": {
    "execution": {
     "iopub.execute_input": "2022-09-01T01:55:24.882813Z",
     "iopub.status.busy": "2022-09-01T01:55:24.881971Z",
     "iopub.status.idle": "2022-09-01T01:55:24.887645Z",
     "shell.execute_reply": "2022-09-01T01:55:24.886672Z"
    },
    "papermill": {
     "duration": 0.01475,
     "end_time": "2022-09-01T01:55:24.890356",
     "exception": false,
     "start_time": "2022-09-01T01:55:24.875606",
     "status": "completed"
    },
    "tags": []
   },
   "outputs": [],
   "source": [
    "# modules we'll use\n",
    "import pandas as pd\n",
    "import numpy as np\n",
    "\n",
    "# helpful character encoding module\n",
    "import chardet\n",
    "\n",
    "# set seed for reproducibility\n",
    "np.random.seed(0)"
   ]
  },
  {
   "cell_type": "markdown",
   "id": "bfdc9a25",
   "metadata": {
    "papermill": {
     "duration": 0.004885,
     "end_time": "2022-09-01T01:55:24.900098",
     "exception": false,
     "start_time": "2022-09-01T01:55:24.895213",
     "status": "completed"
    },
    "tags": []
   },
   "source": [
    "# 1) What are encodings?\n",
    "\n",
    "You're working with a dataset composed of bytes.  Run the code cell below to print a sample entry."
   ]
  },
  {
   "cell_type": "code",
   "execution_count": 3,
   "id": "ffd9fdba",
   "metadata": {
    "execution": {
     "iopub.execute_input": "2022-09-01T01:55:24.912577Z",
     "iopub.status.busy": "2022-09-01T01:55:24.911752Z",
     "iopub.status.idle": "2022-09-01T01:55:24.918676Z",
     "shell.execute_reply": "2022-09-01T01:55:24.917216Z"
    },
    "papermill": {
     "duration": 0.016144,
     "end_time": "2022-09-01T01:55:24.921399",
     "exception": false,
     "start_time": "2022-09-01T01:55:24.905255",
     "status": "completed"
    },
    "tags": []
   },
   "outputs": [
    {
     "name": "stdout",
     "output_type": "stream",
     "text": [
      "b'\\xa7A\\xa6n'\n",
      "data type: <class 'bytes'>\n"
     ]
    }
   ],
   "source": [
    "sample_entry = b'\\xa7A\\xa6n'\n",
    "print(sample_entry)\n",
    "print('data type:', type(sample_entry))"
   ]
  },
  {
   "cell_type": "markdown",
   "id": "f6e5ed08",
   "metadata": {
    "papermill": {
     "duration": 0.004614,
     "end_time": "2022-09-01T01:55:24.930978",
     "exception": false,
     "start_time": "2022-09-01T01:55:24.926364",
     "status": "completed"
    },
    "tags": []
   },
   "source": [
    "You notice that it doesn't use the standard UTF-8 encoding. \n",
    "\n",
    "Use the next code cell to create a variable `new_entry` that changes the encoding from `\"big5-tw\"` to `\"utf-8\"`.  `new_entry` should have the bytes datatype."
   ]
  },
  {
   "cell_type": "code",
   "execution_count": 4,
   "id": "6f947f40",
   "metadata": {
    "execution": {
     "iopub.execute_input": "2022-09-01T01:55:24.943201Z",
     "iopub.status.busy": "2022-09-01T01:55:24.942410Z",
     "iopub.status.idle": "2022-09-01T01:55:24.954659Z",
     "shell.execute_reply": "2022-09-01T01:55:24.953469Z"
    },
    "papermill": {
     "duration": 0.021162,
     "end_time": "2022-09-01T01:55:24.957209",
     "exception": false,
     "start_time": "2022-09-01T01:55:24.936047",
     "status": "completed"
    },
    "tags": []
   },
   "outputs": [
    {
     "name": "stdout",
     "output_type": "stream",
     "text": [
      "b'\\xe4\\xbd\\xa0\\xe5\\xa5\\xbd'\n"
     ]
    },
    {
     "data": {
      "application/javascript": [
       "parent.postMessage({\"jupyterEvent\": \"custom.exercise_interaction\", \"data\": {\"outcomeType\": 1, \"valueTowardsCompletion\": 0.3333333333333333, \"interactionType\": 1, \"questionType\": 1, \"questionId\": \"1_EncodingsIntro\", \"learnToolsVersion\": \"0.3.4\", \"failureMessage\": \"\", \"exceptionClass\": \"\", \"trace\": \"\"}}, \"*\")"
      ],
      "text/plain": [
       "<IPython.core.display.Javascript object>"
      ]
     },
     "metadata": {},
     "output_type": "display_data"
    },
    {
     "data": {
      "text/markdown": [
       "<span style=\"color:#33cc33\">Correct</span>"
      ],
      "text/plain": [
       "Correct"
      ]
     },
     "metadata": {},
     "output_type": "display_data"
    }
   ],
   "source": [
    "\n",
    "new_entry = sample_entry.decode('big5-tw')\n",
    "type(new_entry)\n",
    "new_entry = new_entry.encode('utf-8','replace')\n",
    "type(new_entry)\n",
    "print(new_entry)\n",
    "\n",
    "\n",
    "# Check your answer\n",
    "q1.check()"
   ]
  },
  {
   "cell_type": "code",
   "execution_count": 5,
   "id": "00ac0408",
   "metadata": {
    "execution": {
     "iopub.execute_input": "2022-09-01T01:55:24.969771Z",
     "iopub.status.busy": "2022-09-01T01:55:24.968945Z",
     "iopub.status.idle": "2022-09-01T01:55:24.977021Z",
     "shell.execute_reply": "2022-09-01T01:55:24.975880Z"
    },
    "papermill": {
     "duration": 0.016894,
     "end_time": "2022-09-01T01:55:24.979460",
     "exception": false,
     "start_time": "2022-09-01T01:55:24.962566",
     "status": "completed"
    },
    "tags": []
   },
   "outputs": [
    {
     "data": {
      "application/javascript": [
       "parent.postMessage({\"jupyterEvent\": \"custom.exercise_interaction\", \"data\": {\"interactionType\": 2, \"questionType\": 1, \"questionId\": \"1_EncodingsIntro\", \"learnToolsVersion\": \"0.3.4\", \"valueTowardsCompletion\": 0.0, \"failureMessage\": \"\", \"exceptionClass\": \"\", \"trace\": \"\", \"outcomeType\": 4}}, \"*\")"
      ],
      "text/plain": [
       "<IPython.core.display.Javascript object>"
      ]
     },
     "metadata": {},
     "output_type": "display_data"
    },
    {
     "data": {
      "text/markdown": [
       "<span style=\"color:#3366cc\">Hint:</span> Try using `.decode()` to get the string, then `.encode()` to get the bytes representation, encoded in UTF-8."
      ],
      "text/plain": [
       "Hint: Try using `.decode()` to get the string, then `.encode()` to get the bytes representation, encoded in UTF-8."
      ]
     },
     "metadata": {},
     "output_type": "display_data"
    }
   ],
   "source": [
    "# Lines below will give you a hint or solution code\n",
    "q1.hint()\n",
    "#q1.solution()"
   ]
  },
  {
   "cell_type": "markdown",
   "id": "2c339b82",
   "metadata": {
    "papermill": {
     "duration": 0.005042,
     "end_time": "2022-09-01T01:55:24.990017",
     "exception": false,
     "start_time": "2022-09-01T01:55:24.984975",
     "status": "completed"
    },
    "tags": []
   },
   "source": [
    "# 2) Reading in files with encoding problems\n",
    "\n",
    "Use the code cell below to read in this file at path `\"../input/fatal-police-shootings-in-the-us/PoliceKillingsUS.csv\"`.  \n",
    "\n",
    "Figure out what the correct encoding should be and read in the file to a DataFrame `police_killings`."
   ]
  },
  {
   "cell_type": "code",
   "execution_count": 6,
   "id": "d642391a",
   "metadata": {
    "execution": {
     "iopub.execute_input": "2022-09-01T01:55:25.002528Z",
     "iopub.status.busy": "2022-09-01T01:55:25.002059Z",
     "iopub.status.idle": "2022-09-01T01:55:25.972372Z",
     "shell.execute_reply": "2022-09-01T01:55:25.970826Z"
    },
    "papermill": {
     "duration": 0.979821,
     "end_time": "2022-09-01T01:55:25.975141",
     "exception": false,
     "start_time": "2022-09-01T01:55:24.995320",
     "status": "completed"
    },
    "tags": []
   },
   "outputs": [
    {
     "name": "stdout",
     "output_type": "stream",
     "text": [
      "{'encoding': 'Windows-1252', 'confidence': 0.73, 'language': ''}\n"
     ]
    },
    {
     "data": {
      "application/javascript": [
       "parent.postMessage({\"jupyterEvent\": \"custom.exercise_interaction\", \"data\": {\"outcomeType\": 1, \"valueTowardsCompletion\": 0.3333333333333333, \"interactionType\": 1, \"questionType\": 1, \"questionId\": \"2_ReadIn\", \"learnToolsVersion\": \"0.3.4\", \"failureMessage\": \"\", \"exceptionClass\": \"\", \"trace\": \"\"}}, \"*\")"
      ],
      "text/plain": [
       "<IPython.core.display.Javascript object>"
      ]
     },
     "metadata": {},
     "output_type": "display_data"
    },
    {
     "data": {
      "text/markdown": [
       "<span style=\"color:#33cc33\">Correct</span>"
      ],
      "text/plain": [
       "Correct"
      ]
     },
     "metadata": {},
     "output_type": "display_data"
    }
   ],
   "source": [
    "# TODO: Load in the DataFrame correctly.\n",
    "with open(\"../input/fatal-police-shootings-in-the-us/PoliceKillingsUS.csv\", 'rb') as rawdata:\n",
    "    result = chardet.detect(rawdata.read(50000))\n",
    "print(result)\n",
    "\n",
    "police_killings = pd.read_csv(\"../input/fatal-police-shootings-in-the-us/PoliceKillingsUS.csv\", encoding='Windows-1252')\n",
    "\n",
    "# Check your answer\n",
    "q2.check()"
   ]
  },
  {
   "cell_type": "markdown",
   "id": "032f772b",
   "metadata": {
    "papermill": {
     "duration": 0.006207,
     "end_time": "2022-09-01T01:55:25.987326",
     "exception": false,
     "start_time": "2022-09-01T01:55:25.981119",
     "status": "completed"
    },
    "tags": []
   },
   "source": [
    "Feel free to use any additional code cells for supplemental work.  To get credit for finishing this question, you'll need to run `q2.check()` and get a result of **Correct**."
   ]
  },
  {
   "cell_type": "code",
   "execution_count": 7,
   "id": "16eea219",
   "metadata": {
    "execution": {
     "iopub.execute_input": "2022-09-01T01:55:26.000635Z",
     "iopub.status.busy": "2022-09-01T01:55:26.000186Z",
     "iopub.status.idle": "2022-09-01T01:55:26.005533Z",
     "shell.execute_reply": "2022-09-01T01:55:26.004510Z"
    },
    "papermill": {
     "duration": 0.014676,
     "end_time": "2022-09-01T01:55:26.007777",
     "exception": false,
     "start_time": "2022-09-01T01:55:25.993101",
     "status": "completed"
    },
    "tags": []
   },
   "outputs": [],
   "source": [
    "# (Optional) Use this code cell for any additional work."
   ]
  },
  {
   "cell_type": "code",
   "execution_count": 8,
   "id": "f6d041b4",
   "metadata": {
    "execution": {
     "iopub.execute_input": "2022-09-01T01:55:26.021652Z",
     "iopub.status.busy": "2022-09-01T01:55:26.020871Z",
     "iopub.status.idle": "2022-09-01T01:55:26.025220Z",
     "shell.execute_reply": "2022-09-01T01:55:26.024273Z"
    },
    "papermill": {
     "duration": 0.013474,
     "end_time": "2022-09-01T01:55:26.027281",
     "exception": false,
     "start_time": "2022-09-01T01:55:26.013807",
     "status": "completed"
    },
    "tags": []
   },
   "outputs": [],
   "source": [
    "# Lines below will give you a hint or solution code\n",
    "#q2.hint()\n",
    "#q2.solution()"
   ]
  },
  {
   "cell_type": "markdown",
   "id": "83a61c5f",
   "metadata": {
    "papermill": {
     "duration": 0.005433,
     "end_time": "2022-09-01T01:55:26.038612",
     "exception": false,
     "start_time": "2022-09-01T01:55:26.033179",
     "status": "completed"
    },
    "tags": []
   },
   "source": [
    "# 3) Saving your files with UTF-8 encoding\n",
    "\n",
    "Save a version of the police killings dataset to CSV with UTF-8 encoding.  Your answer will be marked correct after saving this file.  \n",
    "\n",
    "Note: When using the `to_csv()` method, supply only the name of the file (e.g., `\"my_file.csv\"`).  This saves the file at the filepath `\"/kaggle/working/my_file.csv\"`."
   ]
  },
  {
   "cell_type": "code",
   "execution_count": 9,
   "id": "7af3a7b1",
   "metadata": {
    "execution": {
     "iopub.execute_input": "2022-09-01T01:55:26.051915Z",
     "iopub.status.busy": "2022-09-01T01:55:26.051102Z",
     "iopub.status.idle": "2022-09-01T01:55:26.087534Z",
     "shell.execute_reply": "2022-09-01T01:55:26.086282Z"
    },
    "papermill": {
     "duration": 0.045996,
     "end_time": "2022-09-01T01:55:26.090252",
     "exception": false,
     "start_time": "2022-09-01T01:55:26.044256",
     "status": "completed"
    },
    "tags": []
   },
   "outputs": [
    {
     "data": {
      "application/javascript": [
       "parent.postMessage({\"jupyterEvent\": \"custom.exercise_interaction\", \"data\": {\"outcomeType\": 1, \"valueTowardsCompletion\": 0.3333333333333333, \"interactionType\": 1, \"questionType\": 2, \"questionId\": \"3_SaveCSV\", \"learnToolsVersion\": \"0.3.4\", \"failureMessage\": \"\", \"exceptionClass\": \"\", \"trace\": \"\"}}, \"*\")"
      ],
      "text/plain": [
       "<IPython.core.display.Javascript object>"
      ]
     },
     "metadata": {},
     "output_type": "display_data"
    },
    {
     "data": {
      "text/markdown": [
       "<span style=\"color:#33cc33\">Correct</span>"
      ],
      "text/plain": [
       "Correct"
      ]
     },
     "metadata": {},
     "output_type": "display_data"
    }
   ],
   "source": [
    "# TODO: Save the police killings dataset to CSV\n",
    "____\n",
    "police_killings.to_csv('hello.csv')\n",
    "# Check your answer\n",
    "q3.check()"
   ]
  },
  {
   "cell_type": "code",
   "execution_count": 10,
   "id": "1a1bd99c",
   "metadata": {
    "execution": {
     "iopub.execute_input": "2022-09-01T01:55:26.105211Z",
     "iopub.status.busy": "2022-09-01T01:55:26.104791Z",
     "iopub.status.idle": "2022-09-01T01:55:26.114582Z",
     "shell.execute_reply": "2022-09-01T01:55:26.113211Z"
    },
    "papermill": {
     "duration": 0.020503,
     "end_time": "2022-09-01T01:55:26.116903",
     "exception": false,
     "start_time": "2022-09-01T01:55:26.096400",
     "status": "completed"
    },
    "tags": []
   },
   "outputs": [
    {
     "data": {
      "application/javascript": [
       "parent.postMessage({\"jupyterEvent\": \"custom.exercise_interaction\", \"data\": {\"interactionType\": 3, \"questionType\": 2, \"questionId\": \"3_SaveCSV\", \"learnToolsVersion\": \"0.3.4\", \"valueTowardsCompletion\": 0.0, \"failureMessage\": \"\", \"exceptionClass\": \"\", \"trace\": \"\", \"outcomeType\": 4}}, \"*\")"
      ],
      "text/plain": [
       "<IPython.core.display.Javascript object>"
      ]
     },
     "metadata": {},
     "output_type": "display_data"
    },
    {
     "data": {
      "text/markdown": [
       "<span style=\"color:#33cc99\">Solution:</span> \n",
       "```python\n",
       "\n",
       "police_killings.to_csv(\"my_file.csv\")\n",
       "\n",
       "```"
      ],
      "text/plain": [
       "Solution: \n",
       "```python\n",
       "\n",
       "police_killings.to_csv(\"my_file.csv\")\n",
       "\n",
       "```"
      ]
     },
     "metadata": {},
     "output_type": "display_data"
    }
   ],
   "source": [
    "# Lines below will give you a hint or solution code\n",
    "#q3.hint()\n",
    "q3.solution()"
   ]
  },
  {
   "cell_type": "markdown",
   "id": "156039b0",
   "metadata": {
    "papermill": {
     "duration": 0.005925,
     "end_time": "2022-09-01T01:55:26.129119",
     "exception": false,
     "start_time": "2022-09-01T01:55:26.123194",
     "status": "completed"
    },
    "tags": []
   },
   "source": [
    "# (Optional) More practice\n",
    "\n",
    "Check out [this dataset of files in different character encodings](https://www.kaggle.com/rtatman/character-encoding-examples). Can you read in all the files with their original encodings and them save them out as UTF-8 files?\n",
    "\n",
    "If you have a file that's in UTF-8 but has just a couple of weird-looking characters in it, you can try out the [ftfy module](https://ftfy.readthedocs.io/en/latest/#) and see if it helps. \n",
    "\n",
    "# Keep going\n",
    "\n",
    "In the final lesson, learn how to [**clean up inconsistent text entries**](https://www.kaggle.com/alexisbcook/inconsistent-data-entry) in your dataset."
   ]
  },
  {
   "cell_type": "markdown",
   "id": "89ffa8d1",
   "metadata": {
    "papermill": {
     "duration": 0.005932,
     "end_time": "2022-09-01T01:55:26.141245",
     "exception": false,
     "start_time": "2022-09-01T01:55:26.135313",
     "status": "completed"
    },
    "tags": []
   },
   "source": [
    "---\n",
    "\n",
    "\n",
    "\n",
    "\n",
    "*Have questions or comments? Visit the [course discussion forum](https://www.kaggle.com/learn/data-cleaning/discussion) to chat with other learners.*"
   ]
  }
 ],
 "metadata": {
  "kernelspec": {
   "display_name": "Python 3",
   "language": "python",
   "name": "python3"
  },
  "language_info": {
   "codemirror_mode": {
    "name": "ipython",
    "version": 3
   },
   "file_extension": ".py",
   "mimetype": "text/x-python",
   "name": "python",
   "nbconvert_exporter": "python",
   "pygments_lexer": "ipython3",
   "version": "3.7.12"
  },
  "papermill": {
   "default_parameters": {},
   "duration": 11.606657,
   "end_time": "2022-09-01T01:55:26.770100",
   "environment_variables": {},
   "exception": null,
   "input_path": "__notebook__.ipynb",
   "output_path": "__notebook__.ipynb",
   "parameters": {},
   "start_time": "2022-09-01T01:55:15.163443",
   "version": "2.3.4"
  }
 },
 "nbformat": 4,
 "nbformat_minor": 5
}
